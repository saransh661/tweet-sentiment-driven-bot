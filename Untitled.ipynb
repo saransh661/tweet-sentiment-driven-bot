{
 "cells": [
  {
   "cell_type": "code",
   "execution_count": 7,
   "metadata": {},
   "outputs": [
    {
     "name": "stdout",
     "output_type": "stream",
     "text": [
      "Matching device found  SuperUser\n"
     ]
    }
   ],
   "source": [
    "import bluetooth\n",
    "\n",
    "target_name = \"SuperUser\"\n",
    "target_addr = None\n",
    "\n",
    "nearby_devices = bluetooth.discover_devices()\n",
    "\n",
    "for btaddr in nearby_devices:\n",
    "    if target_name == bluetooth.lookup_name(btaddr):\n",
    "        target_addr = btaddr\n",
    "        break\n",
    "    \n",
    "if target_addr is not None :\n",
    "    print(\"Matching device found \", target_name)\n",
    "else:\n",
    "    print(\"No required device found.\")\n",
    "    \n",
    "bluetooth.RFCOMM_UUID"
   ]
  },
  {
   "cell_type": "code",
   "execution_count": null,
   "metadata": {
    "collapsed": true
   },
   "outputs": [],
   "source": []
  }
 ],
 "metadata": {
  "kernelspec": {
   "display_name": "Python 3",
   "language": "python",
   "name": "python3"
  },
  "language_info": {
   "codemirror_mode": {
    "name": "ipython",
    "version": 3
   },
   "file_extension": ".py",
   "mimetype": "text/x-python",
   "name": "python",
   "nbconvert_exporter": "python",
   "pygments_lexer": "ipython3",
   "version": "3.6.1"
  }
 },
 "nbformat": 4,
 "nbformat_minor": 2
}
